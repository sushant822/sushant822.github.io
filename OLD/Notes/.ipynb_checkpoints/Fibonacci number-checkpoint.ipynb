{
 "cells": [
  {
   "cell_type": "code",
   "execution_count": 1,
   "metadata": {},
   "outputs": [
    {
     "name": "stdout",
     "output_type": "stream",
     "text": [
      "7\n"
     ]
    }
   ],
   "source": [
    "# Python3 program to find last digit of \n",
    "# nth Fibonacci number \n",
    "\n",
    "# Function that returns nth Fibonacci number \n",
    "def fib(n): \n",
    "\n",
    "    F = [[1, 1], [1, 0]]; \n",
    "    if (n == 0): \n",
    "        return 0; \n",
    "    power(F, n - 1); \n",
    "\n",
    "    return F[0][0]; \n",
    "\n",
    "# Utility function to multiply two \n",
    "# matrices and store result in first. \n",
    "def multiply(F, M): \n",
    "\n",
    "    x = F[0][0] * M[0][0] + F[0][1] * M[1][0]; \n",
    "    y = F[0][0] * M[0][1] + F[0][1] * M[1][1]; \n",
    "    z = F[1][0] * M[0][0] + F[1][1] * M[1][0]; \n",
    "    w = F[1][0] * M[0][1] + F[1][1] * M[1][1]; \n",
    "\n",
    "    F[0][0] = x; \n",
    "    F[0][1] = y; \n",
    "    F[1][0] = z; \n",
    "    F[1][1] = w; \n",
    "\n",
    "# Optimized version of power() in \n",
    "# method 4 \n",
    "def power(F, n): \n",
    "\n",
    "    if( n == 0 or n == 1): \n",
    "        return; \n",
    "    M = [[1, 1], [1, 0]]; \n",
    "\n",
    "    power(F, int(n / 2)); \n",
    "    multiply(F, F); \n",
    "\n",
    "    if (n % 2 != 0): \n",
    "        multiply(F, M); \n",
    "\n",
    "# Returns last digit of \n",
    "# n'th Fibonacci Number \n",
    "def findLastDigit(n): \n",
    "\n",
    "    return (fib(n) % 10); \n",
    "\n",
    "# Driver code \n",
    "#n = 1; \n",
    "#print(findLastDigit(n)); \n",
    "#n = 61; \n",
    "#print(findLastDigit(n)); \n",
    "#n = 7; \n",
    "#print(findLastDigit(n)); \n",
    "n = 7777; \n",
    "print(findLastDigit(n)); \n",
    "\n",
    "# This code is contributed \n",
    "# by chandan_jnu \n"
   ]
  },
  {
   "cell_type": "code",
   "execution_count": null,
   "metadata": {},
   "outputs": [],
   "source": []
  }
 ],
 "metadata": {
  "kernelspec": {
   "display_name": "Python 3",
   "language": "python",
   "name": "python3"
  },
  "language_info": {
   "codemirror_mode": {
    "name": "ipython",
    "version": 3
   },
   "file_extension": ".py",
   "mimetype": "text/x-python",
   "name": "python",
   "nbconvert_exporter": "python",
   "pygments_lexer": "ipython3",
   "version": "3.7.6"
  }
 },
 "nbformat": 4,
 "nbformat_minor": 4
}
